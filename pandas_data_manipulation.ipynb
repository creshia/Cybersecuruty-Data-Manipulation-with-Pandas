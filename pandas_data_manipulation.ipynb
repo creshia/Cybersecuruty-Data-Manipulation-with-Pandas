{
 "cells": [
  {
   "attachments": {
    "8bf4b477-4f2b-4224-802d-6ea9bc6b11e5.png": {
     "image/png": "[encoded data removed]"
    }
   },
   "cell_type": "markdown",
   "id": "6fbe5469-3603-4567-9e51-d125369b8734",
   "metadata": {},
   "source": [
    "![AI.png](attachment:8bf4b477-4f2b-4224-802d-6ea9bc6b11e5.png)"
   ]
  },
  {
   "cell_type": "markdown",
   "id": "ba97a9eb-74fe-4426-9e6a-b83b0bdc771c",
   "metadata": {},
   "source": [
    "# Cybersecurity Network Traffic Data Analysis with Pandas\n",
    "#### This project uses Pandas to analyse a company's network traffic. \n",
    "\n",
    "### Analysis involves:\n",
    "##### 1. Dataset Loading:\n",
    "- Loading the Network Traffic CSV Dataset from a GitHub Repository. \n",
    "##### 2. Basic Data Exploration: \n",
    "- Analysing Network Activity.\n",
    "##### 3. Filter Data: \n",
    "- Selecting and Storing Blocked Traffic.\n",
    "- Filtering Suspicious Traffic.\n",
    "- Filtering Traffic with High Data Transfer.\n",
    "##### 4. Feature Investigation:\n",
    "- Splitting the Dataset into Feature and Target variables.\n",
    "\n",
    "--------------------------------------------------------------\n",
    "Created by Lucretia Dreyer \n",
    "Adapted Inclusive Group\n",
    "Data Analysis with Pandas Series"
   ]
  },
  {
   "cell_type": "code",
   "execution_count": 20,
   "id": "8d20afcf-969b-4eb2-96bf-a5429cdfaf55",
   "metadata": {},
   "outputs": [],
   "source": [
    "# Install Pandas if not installed already (!pip install pandas)"
   ]
  },
  {
   "cell_type": "code",
   "execution_count": 21,
   "id": "522809e6-d486-4d35-bc8d-f2bdf8c09d36",
   "metadata": {},
   "outputs": [],
   "source": [
    "# Import Pandas\n",
    "import pandas as pd"
   ]
  },
  {
   "cell_type": "markdown",
   "id": "6179aae7-d348-4290-9855-daeccae07467",
   "metadata": {},
   "source": [
    "## Load Dataset"
   ]
  },
  {
   "cell_type": "code",
   "execution_count": 22,
   "id": "bd7d1609-8b3b-451a-ab83-da5c7bcfb111",
   "metadata": {},
   "outputs": [
    {
     "data": {
      "text/html": [
       "<div>\n",
       "<style scoped>\n",
       "    .dataframe tbody tr th:only-of-type {\n",
       "        vertical-align: middle;\n",
       "    }\n",
       "\n",
       "    .dataframe tbody tr th {\n",
       "        vertical-align: top;\n",
       "    }\n",
       "\n",
       "    .dataframe thead th {\n",
       "        text-align: right;\n",
       "    }\n",
       "</style>\n",
       "<table border=\"1\" class=\"dataframe\">\n",
       "  <thead>\n",
       "    <tr style=\"text-align: right;\">\n",
       "      <th></th>\n",
       "      <th>Timestamp</th>\n",
       "      <th>Source_IP</th>\n",
       "      <th>Destination_IP</th>\n",
       "      <th>Protocol</th>\n",
       "      <th>Port</th>\n",
       "      <th>Bytes_Sent</th>\n",
       "      <th>Bytes_Received</th>\n",
       "      <th>Status</th>\n",
       "      <th>Threat_Level</th>\n",
       "    </tr>\n",
       "  </thead>\n",
       "  <tbody>\n",
       "    <tr>\n",
       "      <th>0</th>\n",
       "      <td>2025-03-19 13:04:10</td>\n",
       "      <td>10.0.0.15</td>\n",
       "      <td>192.168.1.20</td>\n",
       "      <td>TCP</td>\n",
       "      <td>NaN</td>\n",
       "      <td>5411</td>\n",
       "      <td>8989</td>\n",
       "      <td>Blocked</td>\n",
       "      <td>Low</td>\n",
       "    </tr>\n",
       "    <tr>\n",
       "      <th>1</th>\n",
       "      <td>2025-03-19 13:03:40</td>\n",
       "      <td>192.168.1.13</td>\n",
       "      <td>172.217.169.46</td>\n",
       "      <td>ICMP</td>\n",
       "      <td>443.0</td>\n",
       "      <td>4999</td>\n",
       "      <td>11808</td>\n",
       "      <td>Allowed</td>\n",
       "      <td>Medium</td>\n",
       "    </tr>\n",
       "    <tr>\n",
       "      <th>2</th>\n",
       "      <td>2025-03-19 13:03:10</td>\n",
       "      <td>10.0.0.5</td>\n",
       "      <td>203.0.113.99</td>\n",
       "      <td>HTTP</td>\n",
       "      <td>443.0</td>\n",
       "      <td>6360</td>\n",
       "      <td>10852</td>\n",
       "      <td>Allowed</td>\n",
       "      <td>Medium</td>\n",
       "    </tr>\n",
       "    <tr>\n",
       "      <th>3</th>\n",
       "      <td>2025-03-19 13:02:40</td>\n",
       "      <td>10.0.0.9</td>\n",
       "      <td>192.168.1.20</td>\n",
       "      <td>TCP</td>\n",
       "      <td>NaN</td>\n",
       "      <td>4011</td>\n",
       "      <td>14314</td>\n",
       "      <td>Blocked</td>\n",
       "      <td>Low</td>\n",
       "    </tr>\n",
       "    <tr>\n",
       "      <th>4</th>\n",
       "      <td>2025-03-19 13:02:10</td>\n",
       "      <td>192.168.1.4</td>\n",
       "      <td>172.217.169.46</td>\n",
       "      <td>FTP</td>\n",
       "      <td>NaN</td>\n",
       "      <td>5254</td>\n",
       "      <td>8718</td>\n",
       "      <td>Blocked</td>\n",
       "      <td>Medium</td>\n",
       "    </tr>\n",
       "    <tr>\n",
       "      <th>...</th>\n",
       "      <td>...</td>\n",
       "      <td>...</td>\n",
       "      <td>...</td>\n",
       "      <td>...</td>\n",
       "      <td>...</td>\n",
       "      <td>...</td>\n",
       "      <td>...</td>\n",
       "      <td>...</td>\n",
       "      <td>...</td>\n",
       "    </tr>\n",
       "    <tr>\n",
       "      <th>995</th>\n",
       "      <td>2025-03-19 04:46:40</td>\n",
       "      <td>10.0.0.46</td>\n",
       "      <td>172.217.169.46</td>\n",
       "      <td>DNS</td>\n",
       "      <td>53.0</td>\n",
       "      <td>2290</td>\n",
       "      <td>6246</td>\n",
       "      <td>Blocked</td>\n",
       "      <td>Low</td>\n",
       "    </tr>\n",
       "    <tr>\n",
       "      <th>996</th>\n",
       "      <td>2025-03-19 04:46:10</td>\n",
       "      <td>10.0.0.3</td>\n",
       "      <td>8.8.8.8</td>\n",
       "      <td>HTTP</td>\n",
       "      <td>443.0</td>\n",
       "      <td>3470</td>\n",
       "      <td>12474</td>\n",
       "      <td>Allowed</td>\n",
       "      <td>Low</td>\n",
       "    </tr>\n",
       "    <tr>\n",
       "      <th>997</th>\n",
       "      <td>2025-03-19 04:45:40</td>\n",
       "      <td>10.0.0.3</td>\n",
       "      <td>192.168.1.20</td>\n",
       "      <td>UDP</td>\n",
       "      <td>21.0</td>\n",
       "      <td>6655</td>\n",
       "      <td>13170</td>\n",
       "      <td>Blocked</td>\n",
       "      <td>Low</td>\n",
       "    </tr>\n",
       "    <tr>\n",
       "      <th>998</th>\n",
       "      <td>2025-03-19 04:45:10</td>\n",
       "      <td>192.168.1.30</td>\n",
       "      <td>172.217.169.46</td>\n",
       "      <td>DNS</td>\n",
       "      <td>NaN</td>\n",
       "      <td>7308</td>\n",
       "      <td>13117</td>\n",
       "      <td>Blocked</td>\n",
       "      <td>Low</td>\n",
       "    </tr>\n",
       "    <tr>\n",
       "      <th>999</th>\n",
       "      <td>2025-03-19 04:44:40</td>\n",
       "      <td>192.168.1.34</td>\n",
       "      <td>8.8.8.8</td>\n",
       "      <td>ICMP</td>\n",
       "      <td>3389.0</td>\n",
       "      <td>726</td>\n",
       "      <td>279</td>\n",
       "      <td>Allowed</td>\n",
       "      <td>Low</td>\n",
       "    </tr>\n",
       "  </tbody>\n",
       "</table>\n",
       "<p>1000 rows × 9 columns</p>\n",
       "</div>"
      ],
      "text/plain": [
       "               Timestamp     Source_IP  Destination_IP Protocol    Port  \\\n",
       "0    2025-03-19 13:04:10     10.0.0.15    192.168.1.20      TCP     NaN   \n",
       "1    2025-03-19 13:03:40  192.168.1.13  172.217.169.46     ICMP   443.0   \n",
       "2    2025-03-19 13:03:10      10.0.0.5    203.0.113.99     HTTP   443.0   \n",
       "3    2025-03-19 13:02:40      10.0.0.9    192.168.1.20      TCP     NaN   \n",
       "4    2025-03-19 13:02:10   192.168.1.4  172.217.169.46      FTP     NaN   \n",
       "..                   ...           ...             ...      ...     ...   \n",
       "995  2025-03-19 04:46:40     10.0.0.46  172.217.169.46      DNS    53.0   \n",
       "996  2025-03-19 04:46:10      10.0.0.3         8.8.8.8     HTTP   443.0   \n",
       "997  2025-03-19 04:45:40      10.0.0.3    192.168.1.20      UDP    21.0   \n",
       "998  2025-03-19 04:45:10  192.168.1.30  172.217.169.46      DNS     NaN   \n",
       "999  2025-03-19 04:44:40  192.168.1.34         8.8.8.8     ICMP  3389.0   \n",
       "\n",
       "     Bytes_Sent  Bytes_Received   Status Threat_Level  \n",
       "0          5411            8989  Blocked          Low  \n",
       "1          4999           11808  Allowed       Medium  \n",
       "2          6360           10852  Allowed       Medium  \n",
       "3          4011           14314  Blocked          Low  \n",
       "4          5254            8718  Blocked       Medium  \n",
       "..          ...             ...      ...          ...  \n",
       "995        2290            6246  Blocked          Low  \n",
       "996        3470           12474  Allowed          Low  \n",
       "997        6655           13170  Blocked          Low  \n",
       "998        7308           13117  Blocked          Low  \n",
       "999         726             279  Allowed          Low  \n",
       "\n",
       "[1000 rows x 9 columns]"
      ]
     },
     "execution_count": 22,
     "metadata": {},
     "output_type": "execute_result"
    }
   ],
   "source": [
    "# Load the CSV dataset from GitHub\n",
    "url = \"https://raw.githubusercontent.com/ritaafrica/data/refs/heads/main/network_traffic_data.csv\" # creates a variable for the GitHub url\n",
    "df = pd.read_csv(url) # reads the dataset and stores it in a new variable (df)\n",
    "df # calls the new variable df to display the contents in the dataset"
   ]
  },
  {
   "cell_type": "markdown",
   "id": "8fad02c5-0b8b-49ff-81c3-189f05fd6588",
   "metadata": {},
   "source": [
    "## Basic Data Exploration"
   ]
  },
  {
   "cell_type": "code",
   "execution_count": 23,
   "id": "d87a96a7-c50d-4357-83ec-83d457772579",
   "metadata": {},
   "outputs": [
    {
     "data": {
      "text/html": [
       "<div>\n",
       "<style scoped>\n",
       "    .dataframe tbody tr th:only-of-type {\n",
       "        vertical-align: middle;\n",
       "    }\n",
       "\n",
       "    .dataframe tbody tr th {\n",
       "        vertical-align: top;\n",
       "    }\n",
       "\n",
       "    .dataframe thead th {\n",
       "        text-align: right;\n",
       "    }\n",
       "</style>\n",
       "<table border=\"1\" class=\"dataframe\">\n",
       "  <thead>\n",
       "    <tr style=\"text-align: right;\">\n",
       "      <th></th>\n",
       "      <th>Timestamp</th>\n",
       "      <th>Source_IP</th>\n",
       "      <th>Destination_IP</th>\n",
       "      <th>Protocol</th>\n",
       "      <th>Port</th>\n",
       "      <th>Bytes_Sent</th>\n",
       "      <th>Bytes_Received</th>\n",
       "      <th>Status</th>\n",
       "      <th>Threat_Level</th>\n",
       "    </tr>\n",
       "  </thead>\n",
       "  <tbody>\n",
       "    <tr>\n",
       "      <th>0</th>\n",
       "      <td>2025-03-19 13:04:10</td>\n",
       "      <td>10.0.0.15</td>\n",
       "      <td>192.168.1.20</td>\n",
       "      <td>TCP</td>\n",
       "      <td>NaN</td>\n",
       "      <td>5411</td>\n",
       "      <td>8989</td>\n",
       "      <td>Blocked</td>\n",
       "      <td>Low</td>\n",
       "    </tr>\n",
       "    <tr>\n",
       "      <th>1</th>\n",
       "      <td>2025-03-19 13:03:40</td>\n",
       "      <td>192.168.1.13</td>\n",
       "      <td>172.217.169.46</td>\n",
       "      <td>ICMP</td>\n",
       "      <td>443.0</td>\n",
       "      <td>4999</td>\n",
       "      <td>11808</td>\n",
       "      <td>Allowed</td>\n",
       "      <td>Medium</td>\n",
       "    </tr>\n",
       "    <tr>\n",
       "      <th>2</th>\n",
       "      <td>2025-03-19 13:03:10</td>\n",
       "      <td>10.0.0.5</td>\n",
       "      <td>203.0.113.99</td>\n",
       "      <td>HTTP</td>\n",
       "      <td>443.0</td>\n",
       "      <td>6360</td>\n",
       "      <td>10852</td>\n",
       "      <td>Allowed</td>\n",
       "      <td>Medium</td>\n",
       "    </tr>\n",
       "    <tr>\n",
       "      <th>3</th>\n",
       "      <td>2025-03-19 13:02:40</td>\n",
       "      <td>10.0.0.9</td>\n",
       "      <td>192.168.1.20</td>\n",
       "      <td>TCP</td>\n",
       "      <td>NaN</td>\n",
       "      <td>4011</td>\n",
       "      <td>14314</td>\n",
       "      <td>Blocked</td>\n",
       "      <td>Low</td>\n",
       "    </tr>\n",
       "    <tr>\n",
       "      <th>4</th>\n",
       "      <td>2025-03-19 13:02:10</td>\n",
       "      <td>192.168.1.4</td>\n",
       "      <td>172.217.169.46</td>\n",
       "      <td>FTP</td>\n",
       "      <td>NaN</td>\n",
       "      <td>5254</td>\n",
       "      <td>8718</td>\n",
       "      <td>Blocked</td>\n",
       "      <td>Medium</td>\n",
       "    </tr>\n",
       "  </tbody>\n",
       "</table>\n",
       "</div>"
      ],
      "text/plain": [
       "             Timestamp     Source_IP  Destination_IP Protocol   Port  \\\n",
       "0  2025-03-19 13:04:10     10.0.0.15    192.168.1.20      TCP    NaN   \n",
       "1  2025-03-19 13:03:40  192.168.1.13  172.217.169.46     ICMP  443.0   \n",
       "2  2025-03-19 13:03:10      10.0.0.5    203.0.113.99     HTTP  443.0   \n",
       "3  2025-03-19 13:02:40      10.0.0.9    192.168.1.20      TCP    NaN   \n",
       "4  2025-03-19 13:02:10   192.168.1.4  172.217.169.46      FTP    NaN   \n",
       "\n",
       "   Bytes_Sent  Bytes_Received   Status Threat_Level  \n",
       "0        5411            8989  Blocked          Low  \n",
       "1        4999           11808  Allowed       Medium  \n",
       "2        6360           10852  Allowed       Medium  \n",
       "3        4011           14314  Blocked          Low  \n",
       "4        5254            8718  Blocked       Medium  "
      ]
     },
     "execution_count": 23,
     "metadata": {},
     "output_type": "execute_result"
    }
   ],
   "source": [
    "# Display the first 5 Rows\n",
    "df.head()"
   ]
  },
  {
   "cell_type": "code",
   "execution_count": 24,
   "id": "ffa62a2f-b145-40d1-8228-38754b0ccb50",
   "metadata": {},
   "outputs": [
    {
     "name": "stdout",
     "output_type": "stream",
     "text": [
      "Data Shape: (1000, 9)\n"
     ]
    }
   ],
   "source": [
    "# Print the number of rows and columns\n",
    "print(f\"Data Shape: {df.shape}\")"
   ]
  },
  {
   "cell_type": "code",
   "execution_count": 25,
   "id": "e8988528-0ec5-4d30-bc79-63542bd0c24e",
   "metadata": {},
   "outputs": [
    {
     "name": "stdout",
     "output_type": "stream",
     "text": [
      "\n",
      "Column Names: \n",
      "Index(['Timestamp', 'Source_IP', 'Destination_IP', 'Protocol', 'Port',\n",
      "       'Bytes_Sent', 'Bytes_Received', 'Status', 'Threat_Level'],\n",
      "      dtype='object')\n"
     ]
    }
   ],
   "source": [
    "# Print Column Names\n",
    "print(\"\\nColumn Names: \")\n",
    "print(df.columns)"
   ]
  },
  {
   "cell_type": "code",
   "execution_count": 26,
   "id": "2fed3dd8-e567-4589-be89-648ac1fd0d41",
   "metadata": {},
   "outputs": [
    {
     "name": "stdout",
     "output_type": "stream",
     "text": [
      "\n",
      "Dataset Info: \n",
      "<class 'pandas.core.frame.DataFrame'>\n",
      "RangeIndex: 1000 entries, 0 to 999\n",
      "Data columns (total 9 columns):\n",
      " #   Column          Non-Null Count  Dtype  \n",
      "---  ------          --------------  -----  \n",
      " 0   Timestamp       1000 non-null   object \n",
      " 1   Source_IP       1000 non-null   object \n",
      " 2   Destination_IP  1000 non-null   object \n",
      " 3   Protocol        1000 non-null   object \n",
      " 4   Port            874 non-null    float64\n",
      " 5   Bytes_Sent      1000 non-null   int64  \n",
      " 6   Bytes_Received  1000 non-null   int64  \n",
      " 7   Status          1000 non-null   object \n",
      " 8   Threat_Level    1000 non-null   object \n",
      "dtypes: float64(1), int64(2), object(6)\n",
      "memory usage: 70.4+ KB\n",
      "None\n"
     ]
    }
   ],
   "source": [
    "# Print basic information about dataset\n",
    "print(\"\\nDataset Info: \")\n",
    "print(df.info())"
   ]
  },
  {
   "cell_type": "code",
   "execution_count": 27,
   "id": "66822357-619f-4885-8b5d-71ea3c34b51e",
   "metadata": {},
   "outputs": [
    {
     "name": "stdout",
     "output_type": "stream",
     "text": [
      "\n",
      "Summary Statistics: \n",
      "              Port   Bytes_Sent  Bytes_Received\n",
      "count   874.000000  1000.000000     1000.000000\n",
      "mean   1819.739130  5143.572000     7562.659000\n",
      "std    2899.374632  2808.256143     4240.206295\n",
      "min      21.000000   106.000000      102.000000\n",
      "25%      22.000000  2857.000000     4025.500000\n",
      "50%      80.000000  5224.000000     7584.500000\n",
      "75%    3389.000000  7487.750000    11147.750000\n",
      "max    8080.000000  9984.000000    14977.000000\n"
     ]
    }
   ],
   "source": [
    "# Print Summary Statistics\n",
    "print(\"\\nSummary Statistics: \")\n",
    "print(df.describe())"
   ]
  },
  {
   "cell_type": "markdown",
   "id": "6e57be79-03f1-4d07-b5fe-2acca9fef444",
   "metadata": {},
   "source": [
    "## Select Specific Colunms for Display"
   ]
  },
  {
   "cell_type": "code",
   "execution_count": 28,
   "id": "443c8fbe-d4e4-4afa-b55d-1d1088697159",
   "metadata": {},
   "outputs": [
    {
     "data": {
      "text/html": [
       "<div>\n",
       "<style scoped>\n",
       "    .dataframe tbody tr th:only-of-type {\n",
       "        vertical-align: middle;\n",
       "    }\n",
       "\n",
       "    .dataframe tbody tr th {\n",
       "        vertical-align: top;\n",
       "    }\n",
       "\n",
       "    .dataframe thead th {\n",
       "        text-align: right;\n",
       "    }\n",
       "</style>\n",
       "<table border=\"1\" class=\"dataframe\">\n",
       "  <thead>\n",
       "    <tr style=\"text-align: right;\">\n",
       "      <th></th>\n",
       "      <th>Timestamp</th>\n",
       "      <th>Source_IP</th>\n",
       "      <th>Destination_IP</th>\n",
       "      <th>Status</th>\n",
       "    </tr>\n",
       "  </thead>\n",
       "  <tbody>\n",
       "    <tr>\n",
       "      <th>0</th>\n",
       "      <td>2025-03-19 13:04:10</td>\n",
       "      <td>10.0.0.15</td>\n",
       "      <td>192.168.1.20</td>\n",
       "      <td>Blocked</td>\n",
       "    </tr>\n",
       "    <tr>\n",
       "      <th>1</th>\n",
       "      <td>2025-03-19 13:03:40</td>\n",
       "      <td>192.168.1.13</td>\n",
       "      <td>172.217.169.46</td>\n",
       "      <td>Allowed</td>\n",
       "    </tr>\n",
       "    <tr>\n",
       "      <th>2</th>\n",
       "      <td>2025-03-19 13:03:10</td>\n",
       "      <td>10.0.0.5</td>\n",
       "      <td>203.0.113.99</td>\n",
       "      <td>Allowed</td>\n",
       "    </tr>\n",
       "    <tr>\n",
       "      <th>3</th>\n",
       "      <td>2025-03-19 13:02:40</td>\n",
       "      <td>10.0.0.9</td>\n",
       "      <td>192.168.1.20</td>\n",
       "      <td>Blocked</td>\n",
       "    </tr>\n",
       "    <tr>\n",
       "      <th>4</th>\n",
       "      <td>2025-03-19 13:02:10</td>\n",
       "      <td>192.168.1.4</td>\n",
       "      <td>172.217.169.46</td>\n",
       "      <td>Blocked</td>\n",
       "    </tr>\n",
       "  </tbody>\n",
       "</table>\n",
       "</div>"
      ],
      "text/plain": [
       "             Timestamp     Source_IP  Destination_IP   Status\n",
       "0  2025-03-19 13:04:10     10.0.0.15    192.168.1.20  Blocked\n",
       "1  2025-03-19 13:03:40  192.168.1.13  172.217.169.46  Allowed\n",
       "2  2025-03-19 13:03:10      10.0.0.5    203.0.113.99  Allowed\n",
       "3  2025-03-19 13:02:40      10.0.0.9    192.168.1.20  Blocked\n",
       "4  2025-03-19 13:02:10   192.168.1.4  172.217.169.46  Blocked"
      ]
     },
     "execution_count": 28,
     "metadata": {},
     "output_type": "execute_result"
    }
   ],
   "source": [
    "# Select Columns of Interest\n",
    "columns_of_interest = df[[\"Timestamp\", \"Source_IP\", \"Destination_IP\", \"Status\"]]\n",
    "coi = columns_of_interest # shortens the columns_of_interest variable into coi to make it easier to analyse.\n",
    "coi.head() # Displays the first 5 rows of the new dataframe"
   ]
  },
  {
   "cell_type": "code",
   "execution_count": 29,
   "id": "c0bee65d-a65f-4812-8dc6-1eac84eb0f55",
   "metadata": {},
   "outputs": [
    {
     "name": "stdout",
     "output_type": "stream",
     "text": [
      "      Source_IP  Destination_IP Protocol Threat_Level\n",
      "0     10.0.0.15    192.168.1.20      TCP          Low\n",
      "1  192.168.1.13  172.217.169.46     ICMP       Medium\n",
      "2      10.0.0.5    203.0.113.99     HTTP       Medium\n",
      "3      10.0.0.9    192.168.1.20      TCP          Low\n",
      "4   192.168.1.4  172.217.169.46      FTP       Medium\n"
     ]
    }
   ],
   "source": [
    "# Select Columns to analyse user network activity\n",
    "network_activity = df[[\"Source_IP\", \"Destination_IP\", \"Protocol\", \"Threat_Level\"]]\n",
    "na =  network_activity # shortens the network_activity variable into na.\n",
    "print(na.head()) # Displays the first 5 rows"
   ]
  },
  {
   "attachments": {},
   "cell_type": "markdown",
   "id": "31b64724-e354-4132-8b48-b7ab860c3379",
   "metadata": {},
   "source": [
    "## Filter Data \n",
    "#### Select and Store Blocked Traffic"
   ]
  },
  {
   "cell_type": "code",
   "execution_count": 30,
   "id": "679a49df-c8b3-42c4-910d-30659955c8d2",
   "metadata": {},
   "outputs": [
    {
     "name": "stdout",
     "output_type": "stream",
     "text": [
      "              Timestamp    Source_IP  Destination_IP Protocol    Port  \\\n",
      "0   2025-03-19 13:04:10    10.0.0.15    192.168.1.20      TCP     NaN   \n",
      "3   2025-03-19 13:02:40     10.0.0.9    192.168.1.20      TCP     NaN   \n",
      "4   2025-03-19 13:02:10  192.168.1.4  172.217.169.46      FTP     NaN   \n",
      "9   2025-03-19 12:59:40    10.0.0.43        10.0.0.5     ICMP  3389.0   \n",
      "10  2025-03-19 12:59:10    10.0.0.33    203.0.113.99      UDP  3389.0   \n",
      "\n",
      "    Bytes_Sent  Bytes_Received   Status Threat_Level  \n",
      "0         5411            8989  Blocked          Low  \n",
      "3         4011           14314  Blocked          Low  \n",
      "4         5254            8718  Blocked       Medium  \n",
      "9         3305            6621  Blocked          Low  \n",
      "10        3700           11297  Blocked       Medium  \n"
     ]
    }
   ],
   "source": [
    "blocked_traffic = df[df[\"Status\"] == \"Blocked\"]\n",
    "bt = blocked_traffic\n",
    "print(bt.head())"
   ]
  },
  {
   "cell_type": "code",
   "execution_count": 31,
   "id": "3d1cdb2b-0748-4260-ae05-c885d9147cf9",
   "metadata": {},
   "outputs": [
    {
     "name": "stdout",
     "output_type": "stream",
     "text": [
      "              Timestamp    Source_IP  Destination_IP Threat_Level\n",
      "0   2025-03-19 13:04:10    10.0.0.15    192.168.1.20          Low\n",
      "3   2025-03-19 13:02:40     10.0.0.9    192.168.1.20          Low\n",
      "4   2025-03-19 13:02:10  192.168.1.4  172.217.169.46       Medium\n",
      "9   2025-03-19 12:59:40    10.0.0.43        10.0.0.5          Low\n",
      "10  2025-03-19 12:59:10    10.0.0.33    203.0.113.99       Medium\n"
     ]
    }
   ],
   "source": [
    "# Summarise the bt dataframe by Selecting Columns of Interest\n",
    "blocked_summary = bt[[\"Timestamp\", \"Source_IP\", \"Destination_IP\", \"Threat_Level\"]]\n",
    "bs = blocked_summary # shortens the blocked_summary variable int bs.\n",
    "print(bs.head())"
   ]
  },
  {
   "cell_type": "markdown",
   "id": "77c88c55-1cf4-4fc9-9f39-2d1c95e046af",
   "metadata": {},
   "source": [
    "## Filter Suspicious Traffic\n"
   ]
  },
  {
   "cell_type": "code",
   "execution_count": 32,
   "id": "3a1b9a7b-d36d-476f-bf83-a197903e4331",
   "metadata": {},
   "outputs": [
    {
     "name": "stdout",
     "output_type": "stream",
     "text": [
      "               Timestamp     Source_IP  Destination_IP Protocol    Port  \\\n",
      "59   2025-03-19 12:34:40     10.0.0.47    192.168.1.20     ICMP     NaN   \n",
      "96   2025-03-19 12:16:10  192.168.1.35    203.0.113.99      FTP  8080.0   \n",
      "134  2025-03-19 11:57:10  192.168.1.17  172.217.169.46      DNS    22.0   \n",
      "150  2025-03-19 11:49:10  192.168.1.42        10.0.0.5     HTTP    53.0   \n",
      "209  2025-03-19 11:19:40     10.0.0.17    203.0.113.99      TCP  3389.0   \n",
      "\n",
      "     Bytes_Sent  Bytes_Received   Status Threat_Level  \n",
      "59         5885             463  Allowed     Critical  \n",
      "96         9371            7189  Allowed     Critical  \n",
      "134        6714           13124  Blocked     Critical  \n",
      "150        2702             634  Allowed     Critical  \n",
      "209        5085           10014  Blocked     Critical  \n"
     ]
    }
   ],
   "source": [
    "# Filter high risk (critical) traffic \n",
    "critical_traffic = df[df[\"Threat_Level\"] == \"Critical\"]\n",
    "ct = critical_traffic\n",
    "print(ct.head())"
   ]
  },
  {
   "cell_type": "markdown",
   "id": "f9a32b39-13ac-4701-b76a-0db3351869e7",
   "metadata": {},
   "source": [
    "## Filter Traffic with High Data Transfer\n"
   ]
  },
  {
   "cell_type": "code",
   "execution_count": 33,
   "id": "4a25bec3-8981-422e-af2c-1942159d8937",
   "metadata": {},
   "outputs": [
    {
     "name": "stdout",
     "output_type": "stream",
     "text": [
      "             Timestamp     Source_IP  Destination_IP Protocol   Port  \\\n",
      "0  2025-03-19 13:04:10     10.0.0.15    192.168.1.20      TCP    NaN   \n",
      "2  2025-03-19 13:03:10      10.0.0.5    203.0.113.99     HTTP  443.0   \n",
      "4  2025-03-19 13:02:10   192.168.1.4  172.217.169.46      FTP    NaN   \n",
      "5  2025-03-19 13:01:40     10.0.0.43  172.217.169.46      DNS   53.0   \n",
      "7  2025-03-19 13:00:40  192.168.1.36    192.168.1.20      TCP   21.0   \n",
      "\n",
      "   Bytes_Sent  Bytes_Received   Status Threat_Level  \n",
      "0        5411            8989  Blocked          Low  \n",
      "2        6360           10852  Allowed       Medium  \n",
      "4        5254            8718  Blocked       Medium  \n",
      "5        6915           12981  Allowed          Low  \n",
      "7        5655             119  Allowed       Medium  \n"
     ]
    }
   ],
   "source": [
    "# Filter and print the Traffic data where Bytes Sent are greater than 5000\n",
    "high_data_transfer = df[df[\"Bytes_Sent\"] > 5000]\n",
    "print(high_data_transfer.head())"
   ]
  },
  {
   "cell_type": "code",
   "execution_count": 34,
   "id": "72919c58-7d73-46ac-8128-81309e9858ed",
   "metadata": {},
   "outputs": [
    {
     "name": "stdout",
     "output_type": "stream",
     "text": [
      "The Number of data transfers over 5000 Bytes Sent is = 518\n"
     ]
    }
   ],
   "source": [
    "print(f\"The Number of data transfers over 5000 Bytes Sent is = {len(high_data_transfer)}\")"
   ]
  },
  {
   "cell_type": "markdown",
   "id": "3ad306b4-f310-49c6-9dac-a36d24f21afd",
   "metadata": {},
   "source": [
    "## Split the Dataset into Features and Target Variable"
   ]
  },
  {
   "cell_type": "code",
   "execution_count": 35,
   "id": "2a433251-8c70-46f4-9ab1-0570e8df2275",
   "metadata": {},
   "outputs": [
    {
     "name": "stdout",
     "output_type": "stream",
     "text": [
      "Features (X): \n",
      "             Timestamp     Source_IP  Destination_IP Protocol   Port  \\\n",
      "0  2025-03-19 13:04:10     10.0.0.15    192.168.1.20      TCP    NaN   \n",
      "1  2025-03-19 13:03:40  192.168.1.13  172.217.169.46     ICMP  443.0   \n",
      "2  2025-03-19 13:03:10      10.0.0.5    203.0.113.99     HTTP  443.0   \n",
      "3  2025-03-19 13:02:40      10.0.0.9    192.168.1.20      TCP    NaN   \n",
      "4  2025-03-19 13:02:10   192.168.1.4  172.217.169.46      FTP    NaN   \n",
      "\n",
      "   Bytes_Sent  Bytes_Received   Status  \n",
      "0        5411            8989  Blocked  \n",
      "1        4999           11808  Allowed  \n",
      "2        6360           10852  Allowed  \n",
      "3        4011           14314  Blocked  \n",
      "4        5254            8718  Blocked  \n",
      "\n",
      "Target Variable (y):\n",
      "0       Low\n",
      "1    Medium\n",
      "2    Medium\n",
      "3       Low\n",
      "4    Medium\n",
      "Name: Threat_Level, dtype: object\n"
     ]
    }
   ],
   "source": [
    "# Split the Dataset into X (Features) and y (Target Variable)\n",
    "X = df.drop(columns=[\"Threat_Level\"]) # Excludes the target variable \"Threat_level\" from Features (X)\n",
    "y = df[\"Threat_Level\"] # Selects target variable into y and excludes the rest \n",
    "\n",
    "# Display first 5 rows of X and y\n",
    "print(\"Features (X): \")\n",
    "print(X.head())\n",
    "\n",
    "print(\"\\nTarget Variable (y):\")\n",
    "print(y.head())\n"
   ]
  },
  {
   "cell_type": "markdown",
   "id": "12151566-a666-49f9-9c49-24436676763a",
   "metadata": {},
   "source": [
    "## Remove a Column from df"
   ]
  },
  {
   "cell_type": "code",
   "execution_count": 36,
   "id": "e68d4254-a389-44c9-91cc-ad7f296b4f50",
   "metadata": {},
   "outputs": [
    {
     "name": "stdout",
     "output_type": "stream",
     "text": [
      "      Source_IP  Destination_IP Protocol   Port  Bytes_Sent  Bytes_Received  \\\n",
      "0     10.0.0.15    192.168.1.20      TCP    NaN        5411            8989   \n",
      "1  192.168.1.13  172.217.169.46     ICMP  443.0        4999           11808   \n",
      "2      10.0.0.5    203.0.113.99     HTTP  443.0        6360           10852   \n",
      "3      10.0.0.9    192.168.1.20      TCP    NaN        4011           14314   \n",
      "4   192.168.1.4  172.217.169.46      FTP    NaN        5254            8718   \n",
      "\n",
      "    Status Threat_Level  \n",
      "0  Blocked          Low  \n",
      "1  Allowed       Medium  \n",
      "2  Allowed       Medium  \n",
      "3  Blocked          Low  \n",
      "4  Blocked       Medium  \n"
     ]
    }
   ],
   "source": [
    "df = df.drop(columns= [\"Timestamp\"])\n",
    "print(df.head())"
   ]
  },
  {
   "cell_type": "markdown",
   "id": "99c9d2e0-5c4e-423a-ab45-573e3a289b8a",
   "metadata": {},
   "source": [
    "This project is part of the Data Science and Machine Learning Course offered by Rise In Tech Africa (RITA Africa)\n",
    "\n",
    "Website: [www.ritaafrica.org](www.ritaafrica.org)"
   ]
  }
 ],
 "metadata": {
  "kernelspec": {
   "display_name": "Python 3 (ipykernel)",
   "language": "python",
   "name": "python3"
  },
  "language_info": {
   "codemirror_mode": {
    "name": "ipython",
    "version": 3
   },
   "file_extension": ".py",
   "mimetype": "text/x-python",
   "name": "python",
   "nbconvert_exporter": "python",
   "pygments_lexer": "ipython3",
   "version": "3.13.0"
  }
 },
 "nbformat": 4,
 "nbformat_minor": 5
}
